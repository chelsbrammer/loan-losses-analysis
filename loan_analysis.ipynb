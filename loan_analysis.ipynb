{
 "cells": [
  {
   "cell_type": "code",
   "execution_count": 15,
   "metadata": {},
   "outputs": [
    {
     "name": "stdout",
     "output_type": "stream",
     "text": [
      "     Rank               Company Name      City   Total Assets   Date Open  \\\n",
      "0     1.0                Adrian Bank     Adrian  1.770390e+05  10/18/1932   \n",
      "1     2.0        The Bank of Advance    Advance  4.897780e+05  01/30/1902   \n",
      "2     3.0  Peoples Bank of Altenburg  Altenburg  8.521200e+04  01/01/1910   \n",
      "3     4.0                 Alton Bank      Alton  1.156940e+05  04/17/1924   \n",
      "4     5.0     First Independent Bank     Aurora  1.284520e+05  01/01/1906   \n",
      "..    ...                        ...        ...           ...         ...   \n",
      "209   NaN                        NaN        NaN           NaN         NaN   \n",
      "210   1.0             Under $250 Mil         96  1.327514e+05         NaN   \n",
      "211   2.0              $250-$500 Mil         44  3.506181e+05         NaN   \n",
      "212   3.0          $500 Mil - $1 Bil         36  7.543970e+05         NaN   \n",
      "213   4.0                Over $1 Bil         29  6.639100e+06         NaN   \n",
      "\n",
      "                 Parent Name  Charter Type \"S\" Corp  Return on Assets  \\\n",
      "0       Adrian Bancshares Inc        State      Yes          0.015400   \n",
      "1        Miles Bancshares Inc        State      Yes          0.016400   \n",
      "2    Lincoln County Bcorp Inc        State      Yes          0.011800   \n",
      "3        Alton Bancshares Inc        State      Yes         -0.001900   \n",
      "4    First Ind Bancshares Inc        State       No          0.005700   \n",
      "..                        ...          ...      ...               ...   \n",
      "209                       NaN          NaN      NaN               NaN   \n",
      "210                       NaN          NaN      NaN          0.008476   \n",
      "211                       NaN          NaN      NaN          0.012034   \n",
      "212                       NaN          NaN      NaN          0.011953   \n",
      "213                       NaN          NaN      NaN          0.011190   \n",
      "\n",
      "     Return on Equity  ...  Return on Equity.1  Net Interest Rank  \\\n",
      "0            0.204900  ...            0.204900               50.0   \n",
      "1            0.148900  ...            0.148900               28.0   \n",
      "2            0.141100  ...            0.141100               51.0   \n",
      "3           -0.027600  ...           -0.027600              200.0   \n",
      "4            0.066600  ...            0.066600              160.0   \n",
      "..                ...  ...                 ...                ...   \n",
      "209               NaN  ...                 NaN                NaN   \n",
      "210          0.109541  ...            0.109541                NaN   \n",
      "211          0.109318  ...            0.109318                NaN   \n",
      "212          0.133283  ...            0.133283                NaN   \n",
      "213          0.124766  ...            0.124766                NaN   \n",
      "\n",
      "     Non-Int Income Rank  Non-Int Expense Rank  Efficiency Rank  NPA's Rank  \\\n",
      "0                   97.0                  77.0             37.0        63.0   \n",
      "1                   60.0                 110.0             34.0       144.0   \n",
      "2                  150.0                 135.0             92.0         2.0   \n",
      "3                  110.0                 153.0            202.0       146.0   \n",
      "4                  136.0                 105.0            168.0       131.0   \n",
      "..                   ...                   ...              ...         ...   \n",
      "209                  NaN                   NaN              NaN         NaN   \n",
      "210                  NaN                   NaN              NaN         NaN   \n",
      "211                  NaN                   NaN              NaN         NaN   \n",
      "212                  NaN                   NaN              NaN         NaN   \n",
      "213                  NaN                   NaN              NaN         NaN   \n",
      "\n",
      "     Asset Quality Rank  ROA Rank  ROE Rank  Average of Rankings  \n",
      "0                  54.0      36.0      24.0               54.750  \n",
      "1                 146.0      27.0      52.0               75.125  \n",
      "2                  24.0      74.0      61.0               73.625  \n",
      "3                 160.0     203.0     202.0              172.000  \n",
      "4                 173.0     173.0     172.0              152.250  \n",
      "..                  ...       ...       ...                  ...  \n",
      "209                 NaN       NaN       NaN                  NaN  \n",
      "210                 NaN       NaN       NaN                  NaN  \n",
      "211                 NaN       NaN       NaN                  NaN  \n",
      "212                 NaN       NaN       NaN                  NaN  \n",
      "213                 NaN       NaN       NaN                  NaN  \n",
      "\n",
      "[214 rows x 63 columns]\n"
     ]
    }
   ],
   "source": [
    "import pandas as pd\n",
    "df = pd.read_excel('c:\\\\Users\\\\cbram\\\\OneDrive\\\\Documents\\\\CSIS 44688 Capstone Project\\\\Banks of Missouri Q4 2023 - Client (1).xlsx')\n",
    "print(df)"
   ]
  }
 ],
 "metadata": {
  "kernelspec": {
   "display_name": "Python 3",
   "language": "python",
   "name": "python3"
  },
  "language_info": {
   "codemirror_mode": {
    "name": "ipython",
    "version": 3
   },
   "file_extension": ".py",
   "mimetype": "text/x-python",
   "name": "python",
   "nbconvert_exporter": "python",
   "pygments_lexer": "ipython3",
   "version": "3.11.8"
  }
 },
 "nbformat": 4,
 "nbformat_minor": 2
}
